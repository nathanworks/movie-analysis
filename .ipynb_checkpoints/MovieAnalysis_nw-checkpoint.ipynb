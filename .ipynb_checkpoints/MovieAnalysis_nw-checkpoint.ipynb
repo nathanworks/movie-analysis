{
 "cells": [
  {
   "cell_type": "code",
   "execution_count": null,
   "id": "5b97e311",
   "metadata": {},
   "outputs": [],
   "source": [
    "#import library\n",
    "import pandas as pd\n",
    "import numpy as np\n",
    "import matplotlib.pyplot as plt"
   ]
  },
  {
   "cell_type": "code",
   "execution_count": null,
   "id": "3f3a0783",
   "metadata": {},
   "outputs": [],
   "source": [
    "#set path where your dataset stored\n",
    "path = './dataset/Movie_Dataset.csv'"
   ]
  },
  {
   "cell_type": "code",
   "execution_count": null,
   "id": "581e861f",
   "metadata": {
    "scrolled": true
   },
   "outputs": [],
   "source": [
    "# create variable named data\n",
    "# read and set dataset to variable named data\n",
    "data = pd.read_csv(path)"
   ]
  },
  {
   "cell_type": "code",
   "execution_count": null,
   "id": "07e10fd5",
   "metadata": {},
   "outputs": [],
   "source": [
    "# show top 10 data\n",
    "data.head(10)"
   ]
  },
  {
   "cell_type": "code",
   "execution_count": null,
   "id": "2aef0655",
   "metadata": {
    "scrolled": true
   },
   "outputs": [],
   "source": [
    "# show information related to dataset ( column name, data count, data type )\n",
    "data.info()"
   ]
  },
  {
   "cell_type": "code",
   "execution_count": null,
   "id": "0b62a625",
   "metadata": {},
   "outputs": [],
   "source": [
    "# show duplicated data\n",
    "data.duplicated().sum()"
   ]
  },
  {
   "cell_type": "code",
   "execution_count": null,
   "id": "499ded78",
   "metadata": {},
   "outputs": [],
   "source": [
    "# show percentage for missing value\n",
    "# sort descending by percentage\n",
    "((data.isna().sum() / data.shape[0]) * 100).sort_values(ascending=False)"
   ]
  },
  {
   "cell_type": "code",
   "execution_count": null,
   "id": "21ec2ad6",
   "metadata": {
    "scrolled": true
   },
   "outputs": [],
   "source": [
    "# create function named handling_dir to handling missing value on column director\n",
    "def handling_dir(x):\n",
    "    if pd.isna(x):\n",
    "        x = 'Unknown'\n",
    "    else:\n",
    "        x = x\n",
    "    return x"
   ]
  },
  {
   "cell_type": "code",
   "execution_count": null,
   "id": "d1a55342",
   "metadata": {},
   "outputs": [],
   "source": [
    "# call function handling_dir and set result to data.director\n",
    "data['director'] = data['director'].apply(handling_dir)"
   ]
  },
  {
   "cell_type": "code",
   "execution_count": null,
   "id": "02ed6483",
   "metadata": {},
   "outputs": [],
   "source": [
    "# show data that has missing value on column duration\n",
    "# and found out that duration stored on wrong column ( in this case duration stored on rating column )\n",
    "data[data.duration.isna()]"
   ]
  },
  {
   "cell_type": "code",
   "execution_count": null,
   "id": "2427a68e",
   "metadata": {},
   "outputs": [],
   "source": [
    "# create function to handling column rating that contain duration, then set to each column\n",
    "data['duration'] = np.where(data['rating'].str.contains('min',case=False, na=False), data['rating'], data['duration'])\n",
    "data['rating'] = np.where(data['rating'].str.contains('min',case=False, na=False), np.nan, data['rating'])"
   ]
  },
  {
   "cell_type": "code",
   "execution_count": null,
   "id": "91c00f6a",
   "metadata": {},
   "outputs": [],
   "source": [
    "# ensure column rating, duration on index 5541 has correct value\n",
    "data[['rating','duration']].iloc[5541]"
   ]
  },
  {
   "cell_type": "code",
   "execution_count": null,
   "id": "e3907d2e",
   "metadata": {},
   "outputs": [],
   "source": [
    "# show value count of column rating\n",
    "data.rating.value_counts()"
   ]
  },
  {
   "cell_type": "code",
   "execution_count": null,
   "id": "49e45e1c",
   "metadata": {},
   "outputs": [],
   "source": [
    "# create function to handling missing value on rating\n",
    "def handling_rate(x):\n",
    "    if pd.isna(x):\n",
    "        x = 'TV-MA'\n",
    "    else:\n",
    "        x = x\n",
    "    return x"
   ]
  },
  {
   "cell_type": "code",
   "execution_count": null,
   "id": "abd975b5",
   "metadata": {},
   "outputs": [],
   "source": [
    "# call function handling_rating and set result to data.rating\n",
    "data['rating'] = data['rating'].apply(handling_rate)"
   ]
  },
  {
   "cell_type": "code",
   "execution_count": null,
   "id": "94de91c3",
   "metadata": {},
   "outputs": [],
   "source": [
    "data[data['date_added'].isna()]"
   ]
  },
  {
   "cell_type": "code",
   "execution_count": null,
   "id": "3002f623",
   "metadata": {},
   "outputs": [],
   "source": [
    "data.date_added.unique()"
   ]
  },
  {
   "cell_type": "code",
   "execution_count": null,
   "id": "bac0101b",
   "metadata": {},
   "outputs": [],
   "source": [
    "data['date_added'] = pd.to_datetime(data['date_added'])"
   ]
  },
  {
   "cell_type": "code",
   "execution_count": null,
   "id": "4c766222",
   "metadata": {},
   "outputs": [],
   "source": [
    "# create function to handling missing value on date added\n",
    "bulan = 'Januari'\n",
    "tanggal = '01'\n",
    "\n",
    "def handling_date(row):\n",
    "    x = row['date_added']\n",
    "    y = row['release_year']\n",
    "    if pd.isna(x):\n",
    "        x = (f\"{bulan} {tanggal}, {y}\")\n",
    "    return x"
   ]
  },
  {
   "cell_type": "code",
   "execution_count": null,
   "id": "42346da1",
   "metadata": {},
   "outputs": [],
   "source": [
    "# create function to handling missing value on release date column\n",
    "data['date_added'] = data.apply(handling_date, axis=1)"
   ]
  },
  {
   "cell_type": "code",
   "execution_count": null,
   "id": "22e2775a",
   "metadata": {},
   "outputs": [],
   "source": [
    "# ensure function works well and missing value has been filled\n",
    "data[['date_added','release_year']].iloc[6066]"
   ]
  },
  {
   "cell_type": "code",
   "execution_count": null,
   "id": "5b0ae5e8",
   "metadata": {},
   "outputs": [],
   "source": [
    "# check data on index 6066 ( this data has missing value on release_year column before handling_date running )\n",
    "data.iloc[6066]"
   ]
  },
  {
   "cell_type": "code",
   "execution_count": null,
   "id": "e86e9519",
   "metadata": {},
   "outputs": [],
   "source": [
    "# create function named handling_cast to handling missing value on column cast\n",
    "def handling_cast(x):\n",
    "    if pd.isna(x):\n",
    "        x = 'Unknown'\n",
    "    else:\n",
    "        x = x\n",
    "    return x"
   ]
  },
  {
   "cell_type": "code",
   "execution_count": null,
   "id": "220e4af4",
   "metadata": {},
   "outputs": [],
   "source": [
    "# call function handling_cast and set result to data.cast\n",
    "data['cast'] = data['cast'].apply(handling_cast)"
   ]
  },
  {
   "cell_type": "code",
   "execution_count": null,
   "id": "6ee5897c",
   "metadata": {},
   "outputs": [],
   "source": [
    "# create function named handling_country to handling missing value on column country\n",
    "def handling_country(x):\n",
    "    if pd.isna(x):\n",
    "        x = 'Unknown'\n",
    "    else:\n",
    "        x = x\n",
    "    return x"
   ]
  },
  {
   "cell_type": "code",
   "execution_count": null,
   "id": "3fe7ed90",
   "metadata": {},
   "outputs": [],
   "source": [
    "# call function handling_cast and set result to data.cast\n",
    "data['country'] = data['cpuntry'].apply(handling_country)"
   ]
  },
  {
   "cell_type": "code",
   "execution_count": null,
   "id": "2c465371",
   "metadata": {},
   "outputs": [],
   "source": []
  }
 ],
 "metadata": {
  "kernelspec": {
   "display_name": "Python 3 (ipykernel)",
   "language": "python",
   "name": "python3"
  },
  "language_info": {
   "codemirror_mode": {
    "name": "ipython",
    "version": 3
   },
   "file_extension": ".py",
   "mimetype": "text/x-python",
   "name": "python",
   "nbconvert_exporter": "python",
   "pygments_lexer": "ipython3",
   "version": "3.9.12"
  }
 },
 "nbformat": 4,
 "nbformat_minor": 5
}
